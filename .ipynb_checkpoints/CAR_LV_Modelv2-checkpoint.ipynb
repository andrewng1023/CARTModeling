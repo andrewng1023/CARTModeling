{
 "cells": [
  {
   "cell_type": "code",
   "execution_count": 1,
   "metadata": {},
   "outputs": [],
   "source": [
    "import numpy as np\n",
    "from numpy import pi, exp, shape, array, r_, c_, dot, nan, inf, where, sqrt, arange\n",
    "from numpy import log, log10, logspace, zeros\n",
    "\n",
    "import scipy.io\n",
    "from scipy.integrate import quad, quadrature, romberg\n",
    "from scipy.optimize import fmin, minimize\n",
    "from scipy.stats import scoreatpercentile\n",
    "from scipy.integrate import ode, odeint\n",
    "\n",
    "from matplotlib import rc\n",
    "from matplotlib.pylab import *\n",
    "from matplotlib.mlab import find\n",
    "#import random, time, os, psutil, datetime, sys"
   ]
  },
  {
   "cell_type": "code",
   "execution_count": 2,
   "metadata": {},
   "outputs": [],
   "source": [
    "np.set_printoptions(precision=3, edgeitems=8, linewidth=150)"
   ]
  },
  {
   "cell_type": "markdown",
   "metadata": {},
   "source": [
    "# Introduction"
   ]
  },
  {
   "cell_type": "markdown",
   "metadata": {},
   "source": [
    "We are building upon the Lotka-Volterra predator prey model outlined in Sahoo et al. to investigate the contribution of CAR T cell signaling to exhaustion. Our model improves upon the Sahoo model in a few key aspects: \n",
    "\n",
    "1) By accounting for the internal signaling dynamics of the T cell we can introduce feedback loops\n",
    "\n",
    "2) We distinguish between several states that our T cells can occupy: resting, active, and exhausted\n",
    "\n",
    "Not sure what to call this model... I think it should still be considered a Lotka-Volterra model but it includes some more complex dynamics"
   ]
  },
  {
   "cell_type": "markdown",
   "metadata": {},
   "source": [
    "## Initialize the ODE model"
   ]
  },
  {
   "cell_type": "markdown",
   "metadata": {},
   "source": [
    "Define a vector x that contains all the species in the model: x = [CC, TC, CAR, aCAR] (CC = cancer cell, TC = T cell).\n",
    "\n",
    "We separate the model into three possible states:\n",
    "\n",
    "1) aCAR < t1: T cells are resting and die at a basal rate, don't proliferate, and don't kill\n",
    "\n",
    "2) t1<= aCAR <=t2: T cells are active and don't die (may need to revisit this), proliferate, and kill\n",
    "\n",
    "3) aCAR > t2: T cells are exhausted and die at an accelerated rate, don't proliferate, and don't kill"
   ]
  },
  {
   "cell_type": "code",
   "execution_count": 6,
   "metadata": {},
   "outputs": [],
   "source": [
    "#CC = x[0]\n",
    "#TC = x[1]\n",
    "#CAR = x[2]\n",
    "#aCAR = x[3]\n",
    "\n",
    "def model1(x, t, t1, t2, a, k_d, g_i, g_a, k_a, rho, K, K1, theta_r, K2, theta_e):\n",
    "    tCAR = x[2]+x[3]\n",
    "    #Resting Cells\n",
    "    if x[3]<(t1*tCAR):\n",
    "        return np.array([\n",
    "            rho*x[0] * (1 - x[0]/K),\n",
    "            -theta_r*x[1],\n",
    "            a + k_d*x[3] - x[2] * (k_a*x[0] + g_i),\n",
    "            k_a*x[2]*x[0] - x[3]*(k_d + g_a)\n",
    "        ])\n",
    "    \n",
    "    #Acitvated Cells\n",
    "    if (t1*tCAR)<=x[3]<=(t2*tCAR):\n",
    "        return np.array([\n",
    "            rho*x[0] * (1 - x[0]/K) - K1*x[0]*x[1],\n",
    "            K2*x[1],\n",
    "            a + k_d*x[3] - x[2] * (k_a*x[0] + g_i),\n",
    "            k_a*x[2]*x[0] - x[3]*(k_d + g_a)\n",
    "        ])\n",
    "    \n",
    "    #Exhausted Cells\n",
    "    if x[3]>(t2*tCAR):\n",
    "        return np.array([\n",
    "            rho*x[0] * (1 - x[0]/K),\n",
    "            -theta_e*x[1],\n",
    "            a + k_d*x[3] - x[2] * (k_a*x[0] + g_i),\n",
    "            k_a*x[2]*x[0] - x[3]*(k_d + g_a)\n",
    "        ])"
   ]
  },
  {
   "cell_type": "markdown",
   "metadata": {},
   "source": [
    "## This set of parameters creates an \"exhaustive\" phenotype"
   ]
  },
  {
   "cell_type": "code",
   "execution_count": 33,
   "metadata": {},
   "outputs": [],
   "source": [
    "#Initialize a vector for the simulation time\n",
    "tt1 = arange(0,1,1e-2)\n",
    "\n",
    "#Set parameters for the model\n",
    "\n",
    "t1 = 0.05 #Lower bound for T cell activation\n",
    "t2 = 0.5 #Upper bound for T cell activation\n",
    "a = 1e2 #CAR production rate\n",
    "k_d = 0.01 #Decay rate of active CAR to inactive CAR\n",
    "g_i = 0.001 #inactive CAR degradation rate\n",
    "g_a = 0.002 #active CAR degradation rate\n",
    "k_a = 0.01 #activation rate of CAR\n",
    "rho = 3 #Logistic growth rate\n",
    "K = 1e6 #Carrying capacity\n",
    "K1 = 0.1 #Killing rate\n",
    "theta_r = 0.001 #T cell resting death rate\n",
    "K2 = 0.1 #T cell active proliferation rate\n",
    "theta_e = 0.01 #T cell exhausted death rate\n",
    "\n",
    "#Set initial conditions for the model\n",
    "x0 = [1e3, 1e2, 1e6, 0]"
   ]
  },
  {
   "cell_type": "code",
   "execution_count": 34,
   "metadata": {},
   "outputs": [],
   "source": [
    "#Solve system of equations\n",
    "yy1 = odeint(model1, x0, tt1, args = (t1, t2, a, k_d, g_i, g_a, k_a, rho, K, K1, theta_r, K2, theta_e), atol = 1e-6, rtol = 1e-5)"
   ]
  },
  {
   "cell_type": "code",
   "execution_count": 35,
   "metadata": {
    "scrolled": true
   },
   "outputs": [
    {
     "data": {
      "image/png": "[encoded data removed]",
      "text/plain": [
       "<Figure size 432x288 with 1 Axes>"
      ]
     },
     "metadata": {
      "needs_background": "light"
     },
     "output_type": "display_data"
    }
   ],
   "source": [
    "xlabel = ['Cancer Cells', 'T cells', 'CAR', 'aCAR']\n",
    "\n",
    "for i in arange(2):\n",
    "    plt.plot(tt1, yy1[:,i], label = xlabel[i])\n",
    "    plt.legend()\n",
    "    plt.yscale('log')\n",
    "    plt.xlabel('Time')"
   ]
  },
  {
   "cell_type": "code",
   "execution_count": 36,
   "metadata": {},
   "outputs": [
    {
     "data": {
      "image/png": "[encoded data removed]",
      "text/plain": [
       "<Figure size 432x288 with 1 Axes>"
      ]
     },
     "metadata": {
      "needs_background": "light"
     },
     "output_type": "display_data"
    }
   ],
   "source": [
    "for i in arange(2):\n",
    "    plt.plot(tt1, yy1[:,i+2], label = xlabel[i+2])\n",
    "    plt.legend()\n",
    "    plt.xlabel('Time')"
   ]
  },
  {
   "cell_type": "code",
   "execution_count": null,
   "metadata": {},
   "outputs": [],
   "source": []
  }
 ],
 "metadata": {
  "kernelspec": {
   "display_name": "Python 3",
   "language": "python",
   "name": "python3"
  },
  "language_info": {
   "codemirror_mode": {
    "name": "ipython",
    "version": 3
   },
   "file_extension": ".py",
   "mimetype": "text/x-python",
   "name": "python",
   "nbconvert_exporter": "python",
   "pygments_lexer": "ipython3",
   "version": "3.7.1"
  }
 },
 "nbformat": 4,
 "nbformat_minor": 2
}
