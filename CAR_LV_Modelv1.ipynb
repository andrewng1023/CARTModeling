{
 "cells": [
  {
   "cell_type": "code",
   "execution_count": 1,
   "metadata": {},
   "outputs": [],
   "source": [
    "import numpy as np\n",
    "from numpy import pi, exp, shape, array, r_, c_, dot, nan, inf, where, sqrt, arange\n",
    "from numpy import log, log10, logspace, zeros\n",
    "\n",
    "import scipy.io\n",
    "from scipy.integrate import quad, quadrature, romberg\n",
    "from scipy.optimize import fmin, minimize\n",
    "from scipy.stats import scoreatpercentile\n",
    "from scipy.integrate import ode, odeint\n",
    "\n",
    "from matplotlib import rc\n",
    "from matplotlib.pylab import *\n",
    "from matplotlib.mlab import find\n",
    "#import random, time, os, psutil, datetime, sys"
   ]
  },
  {
   "cell_type": "code",
   "execution_count": 2,
   "metadata": {},
   "outputs": [],
   "source": [
    "np.set_printoptions(precision=3, edgeitems=8, linewidth=150)"
   ]
  },
  {
   "cell_type": "markdown",
   "metadata": {},
   "source": [
    "# Introduction"
   ]
  },
  {
   "cell_type": "markdown",
   "metadata": {},
   "source": [
    "We are building upon the Lotka-Volterra predator prey model outlined in Sahoo et al. to investigate the contribution of CAR T cell signaling to exhaustion. Our model improves upon the Sahoo model in a few key aspects: \n",
    "\n",
    "1) By accounting for the internal signaling dynamics of the T cell we can introduce feedback loops\n",
    "\n",
    "2) We distinguish between several states that our T cells can occupy: resting, active, and exhausted\n",
    "\n",
    "Not sure what to call this model... I think it should still be considered a Lotka-Volterra model but it includes some more complex dynamics"
   ]
  },
  {
   "cell_type": "markdown",
   "metadata": {},
   "source": [
    "## Initialize the ODE model"
   ]
  },
  {
   "cell_type": "markdown",
   "metadata": {},
   "source": [
    "Define a vector x that contains all the species in the model: x = [CC, TC, CAR, aCAR] (CC = cancer cell, TC = T cell).\n",
    "\n",
    "We separate the model into three possible states:\n",
    "\n",
    "1) aCAR < t1: T cells are resting and die at a basal rate, don't proliferate, and don't kill\n",
    "\n",
    "2) t1<= aCAR <=t2: T cells are active and don't die (may need to revisit this), proliferate, and kill\n",
    "\n",
    "3) aCAR > t2: T cells are exhausted and die at an accelerated rate, don't proliferate, and don't kill"
   ]
  },
  {
   "cell_type": "code",
   "execution_count": 6,
   "metadata": {},
   "outputs": [],
   "source": [
    "#CC = x[0]\n",
    "#TC = x[1]\n",
    "#CAR = x[2]\n",
    "#aCAR = x[3]\n",
    "\n",
    "def model1(x, t, t1, t2, a, k_d, g_i, g_a, k_a, rho, K, K1, theta_r, K2, theta_e):\n",
    "    tCAR = x[2]+x[3]\n",
    "    #Resting Cells\n",
    "    if x[3]<(t1*tCAR):\n",
    "        return np.array([\n",
    "            rho*x[0] * (1 - x[0]/K),\n",
    "            -theta_r*x[1],\n",
    "            a + k_d*x[3] - x[2] * (k_a*x[0] + g_i),\n",
    "            k_a*x[2]*x[0] - x[3]*(k_d + g_a)\n",
    "        ])\n",
    "    \n",
    "    #Acitvated Cells\n",
    "    if (t1*tCAR)<=x[3]<=(t2*tCAR):\n",
    "        return np.array([\n",
    "            rho*x[0] * (1 - x[0]/K) - K1*x[0]*x[1],\n",
    "            K2*x[1],\n",
    "            a + k_d*x[3] - x[2] * (k_a*x[0] + g_i),\n",
    "            k_a*x[2]*x[0] - x[3]*(k_d + g_a)\n",
    "        ])\n",
    "    \n",
    "    #Exhausted Cells\n",
    "    if x[3]>(t2*tCAR):\n",
    "        return np.array([\n",
    "            rho*x[0] * (1 - x[0]/K),\n",
    "            -theta_e*x[1],\n",
    "            a + k_d*x[3] - x[2] * (k_a*x[0] + g_i),\n",
    "            k_a*x[2]*x[0] - x[3]*(k_d + g_a)\n",
    "        ])"
   ]
  },
  {
   "cell_type": "code",
   "execution_count": 22,
   "metadata": {},
   "outputs": [],
   "source": [
    "#Initialize a vector for the simulation time\n",
    "tt1 = arange(0,1,1e-2)\n",
    "\n",
    "#Set parameters for the model\n",
    "\n",
    "t1 = 0.05 #Lower bound for T cell activation\n",
    "t2 = 0.5 #Upper bound for T cell activation\n",
    "a = 1e2 #CAR production rate\n",
    "k_d = 0.01 #Decay rate of active CAR to inactive CAR\n",
    "g_i = 0.001 #inactive CAR degradation rate\n",
    "g_a = 0.002 #active CAR degradation rate\n",
    "k_a = 0.01 #activation rate of CAR\n",
    "rho = 3 #Logistic growth rate\n",
    "K = 1e6 #Carrying capacity\n",
    "K1 = 1 #Killing rate\n",
    "theta_r = 0.001 #T cell resting death rate\n",
    "K2 = 1 #T cell active proliferation rate\n",
    "theta_e = 0.01 #T cell exhausted death rate\n",
    "\n",
    "#Set initial conditions for the model\n",
    "x0 = [1e3, 1e2, 1e6, 0]"
   ]
  },
  {
   "cell_type": "code",
   "execution_count": 23,
   "metadata": {},
   "outputs": [],
   "source": [
    "#Solve system of equations\n",
    "yy1 = odeint(model1, x0, tt1, args = (t1, t2, a, k_d, g_i, g_a, k_a, rho, K, K1, theta_r, K2, theta_e), atol = 1e-6, rtol = 1e-5)"
   ]
  },
  {
   "cell_type": "code",
   "execution_count": 24,
   "metadata": {
    "scrolled": true
   },
   "outputs": [
    {
     "data": {
      "text/plain": [
       "array([[ 1.000e+03,  1.000e+02,  1.000e+06,  0.000e+00],\n",
       "       [ 6.299e+02,  1.005e+02,  9.131e+05,  8.692e+04],\n",
       "       [ 2.364e+02,  1.015e+02,  8.771e+05,  1.229e+05],\n",
       "       [ 8.784e+01,  1.025e+02,  8.640e+05,  1.359e+05],\n",
       "       [ 3.230e+01,  1.036e+02,  8.593e+05,  1.407e+05],\n",
       "       [ 1.176e+01,  1.046e+02,  8.575e+05,  1.424e+05],\n",
       "       [ 4.234e+00,  1.056e+02,  8.569e+05,  1.430e+05],\n",
       "       [ 1.509e+00,  1.067e+02,  8.567e+05,  1.433e+05],\n",
       "       [ 5.321e-01,  1.078e+02,  8.566e+05,  1.433e+05],\n",
       "       [ 1.856e-01,  1.089e+02,  8.566e+05,  1.433e+05],\n",
       "       [ 6.404e-02,  1.100e+02,  8.566e+05,  1.433e+05],\n",
       "       [ 2.186e-02,  1.111e+02,  8.566e+05,  1.433e+05],\n",
       "       [ 7.377e-03,  1.122e+02,  8.566e+05,  1.433e+05],\n",
       "       [ 2.462e-03,  1.133e+02,  8.566e+05,  1.433e+05],\n",
       "       [ 8.124e-04,  1.144e+02,  8.566e+05,  1.433e+05],\n",
       "       [ 2.650e-04,  1.156e+02,  8.566e+05,  1.432e+05],\n",
       "       [ 8.540e-05,  1.168e+02,  8.566e+05,  1.432e+05],\n",
       "       [ 2.724e-05,  1.179e+02,  8.566e+05,  1.432e+05],\n",
       "       [ 8.646e-06,  1.191e+02,  8.566e+05,  1.432e+05],\n",
       "       [ 2.642e-06,  1.203e+02,  8.566e+05,  1.432e+05],\n",
       "       [ 7.929e-07,  1.215e+02,  8.566e+05,  1.432e+05],\n",
       "       [ 2.586e-07,  1.227e+02,  8.566e+05,  1.431e+05],\n",
       "       [ 8.036e-08,  1.240e+02,  8.566e+05,  1.431e+05],\n",
       "       [ 1.077e-08,  1.252e+02,  8.567e+05,  1.431e+05],\n",
       "       [-2.848e-08,  1.265e+02,  8.567e+05,  1.431e+05],\n",
       "       [-2.270e-08,  1.278e+02,  8.567e+05,  1.431e+05],\n",
       "       [-2.891e-08,  1.290e+02,  8.567e+05,  1.431e+05],\n",
       "       [-2.340e-08,  1.303e+02,  8.567e+05,  1.430e+05],\n",
       "       [-1.088e-08,  1.316e+02,  8.567e+05,  1.430e+05],\n",
       "       [-1.094e-08,  1.330e+02,  8.567e+05,  1.430e+05],\n",
       "       [-5.896e-09,  1.343e+02,  8.567e+05,  1.430e+05],\n",
       "       [ 3.175e-09,  1.357e+02,  8.567e+05,  1.430e+05],\n",
       "       [ 1.089e-08,  1.370e+02,  8.567e+05,  1.430e+05],\n",
       "       [ 1.338e-08,  1.384e+02,  8.567e+05,  1.429e+05],\n",
       "       [ 1.588e-08,  1.398e+02,  8.567e+05,  1.429e+05],\n",
       "       [ 2.381e-08,  1.412e+02,  8.567e+05,  1.429e+05],\n",
       "       [ 3.123e-08,  1.426e+02,  8.567e+05,  1.429e+05],\n",
       "       [ 3.744e-08,  1.440e+02,  8.568e+05,  1.429e+05],\n",
       "       [ 3.790e-08,  1.455e+02,  8.568e+05,  1.428e+05],\n",
       "       [ 3.239e-08,  1.469e+02,  8.568e+05,  1.428e+05],\n",
       "       [ 1.979e-08,  1.484e+02,  8.568e+05,  1.428e+05],\n",
       "       [ 4.547e-09,  1.499e+02,  8.568e+05,  1.428e+05],\n",
       "       [ 4.480e-09,  1.514e+02,  8.568e+05,  1.428e+05],\n",
       "       [ 1.314e-08,  1.529e+02,  8.568e+05,  1.428e+05],\n",
       "       [ 3.321e-08,  1.545e+02,  8.568e+05,  1.427e+05],\n",
       "       [ 4.030e-08,  1.560e+02,  8.568e+05,  1.427e+05],\n",
       "       [ 3.577e-08,  1.576e+02,  8.568e+05,  1.427e+05],\n",
       "       [ 3.033e-08,  1.592e+02,  8.568e+05,  1.427e+05],\n",
       "       [ 2.414e-08,  1.608e+02,  8.568e+05,  1.427e+05],\n",
       "       [ 1.738e-08,  1.624e+02,  8.568e+05,  1.427e+05],\n",
       "       [ 1.023e-08,  1.640e+02,  8.568e+05,  1.426e+05],\n",
       "       [ 3.308e-09,  1.657e+02,  8.568e+05,  1.426e+05],\n",
       "       [-1.551e-09,  1.674e+02,  8.569e+05,  1.426e+05],\n",
       "       [-5.246e-09,  1.690e+02,  8.569e+05,  1.426e+05],\n",
       "       [-7.469e-09,  1.707e+02,  8.569e+05,  1.426e+05],\n",
       "       [-7.914e-09,  1.724e+02,  8.569e+05,  1.426e+05],\n",
       "       [-6.272e-09,  1.742e+02,  8.569e+05,  1.425e+05],\n",
       "       [-2.236e-09,  1.759e+02,  8.569e+05,  1.425e+05],\n",
       "       [-1.410e-09,  1.777e+02,  8.569e+05,  1.425e+05],\n",
       "       [-2.052e-09,  1.795e+02,  8.569e+05,  1.425e+05],\n",
       "       [-3.092e-09,  1.813e+02,  8.569e+05,  1.425e+05],\n",
       "       [-4.672e-09,  1.831e+02,  8.569e+05,  1.425e+05],\n",
       "       [-6.935e-09,  1.850e+02,  8.569e+05,  1.424e+05],\n",
       "       [-1.003e-08,  1.868e+02,  8.569e+05,  1.424e+05],\n",
       "       [-9.949e-09,  1.887e+02,  8.569e+05,  1.424e+05],\n",
       "       [-1.069e-08,  1.906e+02,  8.569e+05,  1.424e+05],\n",
       "       [-9.838e-09,  1.925e+02,  8.569e+05,  1.424e+05],\n",
       "       [-7.440e-09,  1.944e+02,  8.570e+05,  1.424e+05],\n",
       "       [-3.515e-09,  1.964e+02,  8.570e+05,  1.423e+05],\n",
       "       [ 1.969e-09,  1.984e+02,  8.570e+05,  1.423e+05],\n",
       "       [ 9.088e-09,  2.004e+02,  8.570e+05,  1.423e+05],\n",
       "       [ 1.390e-08,  2.024e+02,  8.570e+05,  1.423e+05],\n",
       "       [ 1.853e-08,  2.044e+02,  8.570e+05,  1.423e+05],\n",
       "       [ 2.316e-08,  2.065e+02,  8.570e+05,  1.422e+05],\n",
       "       [ 2.772e-08,  2.085e+02,  8.570e+05,  1.422e+05],\n",
       "       [ 3.214e-08,  2.106e+02,  8.570e+05,  1.422e+05],\n",
       "       [ 3.639e-08,  2.127e+02,  8.570e+05,  1.422e+05],\n",
       "       [ 4.046e-08,  2.149e+02,  8.570e+05,  1.422e+05],\n",
       "       [ 4.436e-08,  2.170e+02,  8.570e+05,  1.422e+05],\n",
       "       [ 4.752e-08,  2.192e+02,  8.570e+05,  1.421e+05],\n",
       "       [ 4.611e-08,  2.214e+02,  8.570e+05,  1.421e+05],\n",
       "       [ 4.267e-08,  2.237e+02,  8.570e+05,  1.421e+05],\n",
       "       [ 3.697e-08,  2.259e+02,  8.571e+05,  1.421e+05],\n",
       "       [ 2.877e-08,  2.282e+02,  8.571e+05,  1.421e+05],\n",
       "       [ 1.782e-08,  2.305e+02,  8.571e+05,  1.421e+05],\n",
       "       [ 3.883e-09,  2.328e+02,  8.571e+05,  1.420e+05],\n",
       "       [-1.328e-08,  2.351e+02,  8.571e+05,  1.420e+05],\n",
       "       [-3.391e-08,  2.375e+02,  8.571e+05,  1.420e+05],\n",
       "       [-4.945e-08,  2.399e+02,  8.571e+05,  1.420e+05],\n",
       "       [-4.744e-08,  2.423e+02,  8.571e+05,  1.420e+05],\n",
       "       [-3.814e-08,  2.447e+02,  8.571e+05,  1.420e+05],\n",
       "       [-1.984e-08,  2.472e+02,  8.571e+05,  1.419e+05],\n",
       "       [ 9.258e-09,  2.497e+02,  8.571e+05,  1.419e+05],\n",
       "       [ 5.110e-08,  2.522e+02,  8.571e+05,  1.419e+05],\n",
       "       [ 1.078e-07,  2.547e+02,  8.571e+05,  1.419e+05],\n",
       "       [ 1.814e-07,  2.573e+02,  8.571e+05,  1.419e+05],\n",
       "       [ 2.745e-07,  2.598e+02,  8.571e+05,  1.419e+05],\n",
       "       [ 2.976e-07,  2.625e+02,  8.572e+05,  1.418e+05],\n",
       "       [ 2.342e-07,  2.651e+02,  8.572e+05,  1.418e+05],\n",
       "       [ 1.241e-07,  2.678e+02,  8.572e+05,  1.418e+05]])"
      ]
     },
     "execution_count": 24,
     "metadata": {},
     "output_type": "execute_result"
    }
   ],
   "source": [
    "yy1"
   ]
  },
  {
   "cell_type": "code",
   "execution_count": 25,
   "metadata": {
    "scrolled": true
   },
   "outputs": [
    {
     "data": {
      "image/png": "[encoded data removed]",
      "text/plain": [
       "<Figure size 432x288 with 1 Axes>"
      ]
     },
     "metadata": {
      "needs_background": "light"
     },
     "output_type": "display_data"
    }
   ],
   "source": [
    "xlabel = ['Cancer Cells', 'T cells', 'CAR', 'aCAR']\n",
    "\n",
    "for i in arange(2):\n",
    "    plt.plot(tt1, yy1[:,i], label = xlabel[i])\n",
    "    plt.legend()\n",
    "    plt.xlabel('Time')"
   ]
  },
  {
   "cell_type": "code",
   "execution_count": 26,
   "metadata": {},
   "outputs": [
    {
     "data": {
      "image/png": "[encoded data removed]",
      "text/plain": [
       "<Figure size 432x288 with 1 Axes>"
      ]
     },
     "metadata": {
      "needs_background": "light"
     },
     "output_type": "display_data"
    }
   ],
   "source": [
    "for i in arange(2):\n",
    "    plt.plot(tt1, yy1[:,i+2], label = xlabel[i+2])\n",
    "    plt.legend()\n",
    "    plt.xlabel('Time')"
   ]
  },
  {
   "cell_type": "code",
   "execution_count": null,
   "metadata": {},
   "outputs": [],
   "source": []
  }
 ],
 "metadata": {
  "kernelspec": {
   "display_name": "Python 3",
   "language": "python",
   "name": "python3"
  },
  "language_info": {
   "codemirror_mode": {
    "name": "ipython",
    "version": 3
   },
   "file_extension": ".py",
   "mimetype": "text/x-python",
   "name": "python",
   "nbconvert_exporter": "python",
   "pygments_lexer": "ipython3",
   "version": "3.7.1"
  }
 },
 "nbformat": 4,
 "nbformat_minor": 2
}
