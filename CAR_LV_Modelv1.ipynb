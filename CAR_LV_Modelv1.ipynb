{
 "cells": [
  {
   "cell_type": "code",
   "execution_count": 3,
   "metadata": {},
   "outputs": [],
   "source": [
    "import numpy as np\n",
    "from numpy import pi, exp, shape, array, r_, c_, dot, nan, inf, where, sqrt, arange\n",
    "from numpy import log, log10, logspace, zeros\n",
    "\n",
    "import scipy.io\n",
    "from scipy.integrate import quad, quadrature, romberg\n",
    "from scipy.optimize import fmin, minimize\n",
    "from scipy.stats import scoreatpercentile\n",
    "from scipy.integrate import ode, odeint\n",
    "\n",
    "from matplotlib import rc\n",
    "from matplotlib.pylab import *\n",
    "from matplotlib.mlab import find\n",
    "#import random, time, os, psutil, datetime, sys"
   ]
  },
  {
   "cell_type": "code",
   "execution_count": 4,
   "metadata": {},
   "outputs": [],
   "source": [
    "np.set_printoptions(precision=3, edgeitems=8, linewidth=150)"
   ]
  },
  {
   "cell_type": "markdown",
   "metadata": {},
   "source": [
    "# Introduction"
   ]
  },
  {
   "cell_type": "markdown",
   "metadata": {},
   "source": [
    "We are building upon the Lotka-Volterra predator prey model outlined in Sahoo et al. to investigate the contribution of CAR T cell signaling to exhaustion. Our model improves upon the Sahoo model in a few key aspects: \n",
    "\n",
    "1) By accounting for the internal signaling dynamics of the T cell we can introduce feedback loops\n",
    "\n",
    "2) We distinguish between several states that our T cells can occupy: resting, active, and exhausted\n",
    "\n",
    "Not sure what to call this model... I think it should still be considered a Lotka-Volterra model but it includes some more complex dynamics"
   ]
  },
  {
   "cell_type": "markdown",
   "metadata": {},
   "source": [
    "## Initialize the ODE model"
   ]
  },
  {
   "cell_type": "markdown",
   "metadata": {},
   "source": [
    "Define a vector x that contains all the species in the model: x = [CC, TC, CAR, aCAR] (CC = cancer cell, TC = T cell).\n",
    "\n",
    "We separate the model into three possible states:\n",
    "\n",
    "1) aCAR < t1: T cells are resting and die at a basal rate, don't proliferate, and don't kill\n",
    "\n",
    "2) t1<= aCAR <=t2: T cells are active and don't die (may need to revisit this), proliferate, and kill\n",
    "\n",
    "3) aCAR > t2: T cells are exhausted and die at an accelerated rate, don't proliferate, and don't kill"
   ]
  },
  {
   "cell_type": "code",
   "execution_count": 34,
   "metadata": {},
   "outputs": [],
   "source": [
    "#CC = x[0]\n",
    "#TC = x[1]\n",
    "#CAR = x[2]\n",
    "#aCAR = x[3]\n",
    "\n",
    "def model1(x, t, t1, t2, a, k_d, g_i, g_a, k_a, rho, K, K1, theta_r, K2, theta_e):\n",
    "    tCAR = x[2]+x[3]\n",
    "    #Resting Cells\n",
    "    if x[3]<t1*tCAR:\n",
    "        return np.array([\n",
    "            rho*x[0] * (1 - x[0]/K),\n",
    "            -theta_r*x[1],\n",
    "            a + k_d*x[3] - x[2] * (k_a*x[0] + g_i),\n",
    "            k_a*x[2]*x[0] - x[3]*(k_d + g_a)\n",
    "        ])\n",
    "    \n",
    "    #Acitvated Cells\n",
    "    if t1*tCAR<=x[3]<=t2*tCAR:\n",
    "        return np.array([\n",
    "            rho*x[0] * (1 - x[0]/K) - K1*x[0]*x[1],\n",
    "            K2*x[1],\n",
    "            a + k_d*x[3] - x[2] * (k_a*x[0] + g_i),\n",
    "            k_a*x[2]*x[0] - x[3]*(k_d + g_a)\n",
    "        ])\n",
    "    \n",
    "    #Exhausted Cells\n",
    "    if x[3]>tCAR:\n",
    "        return np.array([\n",
    "            rho*x[0] * (1 - x[0]/K),\n",
    "            -theta_e*x[1],\n",
    "            a + k_d*x[3] - x[2] * (k_a*x[0] + g_i),\n",
    "            k_a*x[2]*x[0] - x[3]*(k_d + g_a)\n",
    "        ])"
   ]
  },
  {
   "cell_type": "code",
   "execution_count": 9,
   "metadata": {},
   "outputs": [],
   "source": [
    "#Initialize a vector for the simulation time\n",
    "tt1 = arange(0,1,1e-2)\n",
    "\n",
    "#Set parameters for the model\n",
    "p = np.array([0.2, 0.8, 1, 0.1, 0.1, 0.2, 1, 3, 10, 10, 0.001, 1, 0.01])\n",
    "(t1, t2, a, k_d, g_i, g_a, k_a, rho, K, K1, theta_r, K2, theta_e) = (p[0], p[1], p[2], p[3], p[4], p[5], p[6], p[7], p[8], p[9], p[10], p[11], p[12])\n",
    "\n",
    "#Set initial conditions for the model\n",
    "x0 = [1e3, 1e2, 1, 0]"
   ]
  },
  {
   "cell_type": "code",
   "execution_count": 35,
   "metadata": {},
   "outputs": [],
   "source": [
    "#Solve system of equations\n",
    "yy1 = odeint(model1, x0, tt1, args = (t1, t2, a, k_d, g_i, g_a, k_a, rho, K, K1, theta_r, K2, theta_e), atol = 1e-6, rtol = 1e-5)"
   ]
  },
  {
   "cell_type": "code",
   "execution_count": 36,
   "metadata": {
    "scrolled": true
   },
   "outputs": [
    {
     "data": {
      "text/plain": [
       "array([[ 1.000e+03,  1.000e+02,  1.000e+00,  0.000e+00],\n",
       "       [ 4.100e-02,  1.010e+02,  3.596e-01,  6.488e-01],\n",
       "       [ 1.615e-06,  1.020e+02,  3.698e-01,  6.469e-01],\n",
       "       [-1.362e-08,  1.030e+02,  3.801e-01,  6.450e-01],\n",
       "       [ 7.756e-10,  1.041e+02,  3.904e-01,  6.430e-01],\n",
       "       [-2.262e-10,  1.051e+02,  4.006e-01,  6.411e-01],\n",
       "       [-8.540e-10,  1.062e+02,  4.108e-01,  6.392e-01],\n",
       "       [-5.532e-09,  1.072e+02,  4.211e-01,  6.373e-01],\n",
       "       [-5.842e-09,  1.083e+02,  4.313e-01,  6.354e-01],\n",
       "       [-2.083e-09,  1.094e+02,  4.415e-01,  6.335e-01],\n",
       "       [-4.084e-09,  1.105e+02,  4.517e-01,  6.316e-01],\n",
       "       [-4.385e-09,  1.116e+02,  4.618e-01,  6.297e-01],\n",
       "       [-3.798e-09,  1.127e+02,  4.720e-01,  6.278e-01],\n",
       "       [-3.440e-09,  1.139e+02,  4.821e-01,  6.259e-01],\n",
       "       [-2.085e-09,  1.150e+02,  4.923e-01,  6.240e-01],\n",
       "       [-9.789e-10,  1.162e+02,  5.024e-01,  6.222e-01],\n",
       "       [-5.876e-10,  1.173e+02,  5.125e-01,  6.203e-01],\n",
       "       [-8.604e-10,  1.185e+02,  5.226e-01,  6.184e-01],\n",
       "       [ 1.498e-09,  1.197e+02,  5.327e-01,  6.166e-01],\n",
       "       [ 4.077e-09,  1.209e+02,  5.428e-01,  6.147e-01],\n",
       "       [ 6.398e-09,  1.221e+02,  5.529e-01,  6.129e-01],\n",
       "       [ 8.289e-09,  1.233e+02,  5.629e-01,  6.111e-01],\n",
       "       [ 9.581e-09,  1.246e+02,  5.730e-01,  6.092e-01],\n",
       "       [ 1.010e-08,  1.258e+02,  5.830e-01,  6.074e-01],\n",
       "       [ 9.683e-09,  1.271e+02,  5.930e-01,  6.056e-01],\n",
       "       [ 8.153e-09,  1.284e+02,  6.030e-01,  6.038e-01],\n",
       "       [ 5.341e-09,  1.297e+02,  6.130e-01,  6.020e-01],\n",
       "       [ 1.077e-09,  1.310e+02,  6.230e-01,  6.002e-01],\n",
       "       [-1.300e-09,  1.323e+02,  6.330e-01,  5.984e-01],\n",
       "       [-3.491e-09,  1.336e+02,  6.429e-01,  5.966e-01],\n",
       "       [-5.913e-09,  1.350e+02,  6.529e-01,  5.948e-01],\n",
       "       [-8.551e-09,  1.363e+02,  6.628e-01,  5.930e-01],\n",
       "       [-1.139e-08,  1.377e+02,  6.727e-01,  5.912e-01],\n",
       "       [-1.441e-08,  1.391e+02,  6.826e-01,  5.895e-01],\n",
       "       [-1.760e-08,  1.405e+02,  6.925e-01,  5.877e-01],\n",
       "       [-2.003e-08,  1.419e+02,  7.024e-01,  5.859e-01],\n",
       "       [-2.096e-08,  1.433e+02,  7.123e-01,  5.842e-01],\n",
       "       [-2.114e-08,  1.447e+02,  7.222e-01,  5.824e-01],\n",
       "       [-2.045e-08,  1.462e+02,  7.320e-01,  5.807e-01],\n",
       "       [-1.879e-08,  1.477e+02,  7.419e-01,  5.789e-01],\n",
       "       [-1.603e-08,  1.492e+02,  7.517e-01,  5.772e-01],\n",
       "       [-1.206e-08,  1.507e+02,  7.615e-01,  5.755e-01],\n",
       "       [-6.967e-09,  1.522e+02,  7.713e-01,  5.738e-01],\n",
       "       [-4.530e-09,  1.537e+02,  7.811e-01,  5.720e-01],\n",
       "       [-2.147e-09,  1.552e+02,  7.909e-01,  5.703e-01],\n",
       "       [ 1.055e-10,  1.568e+02,  8.007e-01,  5.686e-01],\n",
       "       [ 2.152e-09,  1.584e+02,  8.104e-01,  5.669e-01],\n",
       "       [ 3.916e-09,  1.600e+02,  8.202e-01,  5.652e-01],\n",
       "       [ 5.323e-09,  1.616e+02,  8.299e-01,  5.635e-01],\n",
       "       [ 6.298e-09,  1.632e+02,  8.397e-01,  5.618e-01],\n",
       "       [ 7.341e-09,  1.648e+02,  8.494e-01,  5.601e-01],\n",
       "       [ 7.726e-09,  1.665e+02,  8.591e-01,  5.585e-01],\n",
       "       [ 7.710e-09,  1.682e+02,  8.688e-01,  5.568e-01],\n",
       "       [ 7.225e-09,  1.699e+02,  8.785e-01,  5.551e-01],\n",
       "       [ 6.205e-09,  1.716e+02,  8.881e-01,  5.535e-01],\n",
       "       [ 4.587e-09,  1.733e+02,  8.978e-01,  5.518e-01],\n",
       "       [ 2.311e-09,  1.750e+02,  9.074e-01,  5.502e-01],\n",
       "       [-1.949e-10,  1.768e+02,  9.171e-01,  5.485e-01],\n",
       "       [-1.404e-09,  1.786e+02,  9.267e-01,  5.469e-01],\n",
       "       [-2.413e-09,  1.804e+02,  9.363e-01,  5.452e-01],\n",
       "       [-3.090e-09,  1.822e+02,  9.459e-01,  5.436e-01],\n",
       "       [-3.290e-09,  1.840e+02,  9.555e-01,  5.420e-01],\n",
       "       [-2.853e-09,  1.859e+02,  9.651e-01,  5.403e-01],\n",
       "       [-1.600e-09,  1.877e+02,  9.747e-01,  5.387e-01],\n",
       "       [ 6.584e-10,  1.896e+02,  9.842e-01,  5.371e-01],\n",
       "       [ 4.130e-09,  1.915e+02,  9.938e-01,  5.355e-01],\n",
       "       [ 5.354e-09,  1.934e+02,  1.003e+00,  5.339e-01],\n",
       "       [ 4.931e-09,  1.954e+02,  1.013e+00,  5.323e-01],\n",
       "       [ 3.872e-09,  1.974e+02,  1.022e+00,  5.307e-01],\n",
       "       [ 2.019e-09,  1.993e+02,  1.032e+00,  5.291e-01],\n",
       "       [-7.984e-10,  2.013e+02,  1.041e+00,  5.275e-01],\n",
       "       [-4.766e-09,  2.034e+02,  1.051e+00,  5.259e-01],\n",
       "       [-1.008e-08,  2.054e+02,  1.060e+00,  5.244e-01],\n",
       "       [-1.695e-08,  2.075e+02,  1.070e+00,  5.228e-01],\n",
       "       [-2.402e-08,  2.096e+02,  1.079e+00,  5.212e-01],\n",
       "       [-2.458e-08,  2.117e+02,  1.089e+00,  5.197e-01],\n",
       "       [-2.333e-08,  2.138e+02,  1.098e+00,  5.181e-01],\n",
       "       [-1.982e-08,  2.159e+02,  1.107e+00,  5.166e-01],\n",
       "       [-1.356e-08,  2.181e+02,  1.117e+00,  5.150e-01],\n",
       "       [-4.026e-09,  2.203e+02,  1.126e+00,  5.135e-01],\n",
       "       [ 9.342e-09,  2.225e+02,  1.136e+00,  5.119e-01],\n",
       "       [ 2.714e-08,  2.247e+02,  1.145e+00,  5.104e-01],\n",
       "       [ 5.000e-08,  2.270e+02,  1.154e+00,  5.089e-01],\n",
       "       [ 5.967e-08,  2.293e+02,  1.164e+00,  5.073e-01],\n",
       "       [ 5.661e-08,  2.316e+02,  1.173e+00,  5.058e-01],\n",
       "       [ 4.668e-08,  2.339e+02,  1.182e+00,  5.043e-01],\n",
       "       [ 2.832e-08,  2.363e+02,  1.192e+00,  5.028e-01],\n",
       "       [-1.756e-10,  2.386e+02,  1.201e+00,  5.013e-01],\n",
       "       [-4.060e-08,  2.410e+02,  1.210e+00,  4.998e-01],\n",
       "       [-9.490e-08,  2.435e+02,  1.220e+00,  4.983e-01],\n",
       "       [-1.651e-07,  2.459e+02,  1.229e+00,  4.968e-01],\n",
       "       [-2.388e-07,  2.484e+02,  1.238e+00,  4.953e-01],\n",
       "       [-2.282e-07,  2.509e+02,  1.247e+00,  4.938e-01],\n",
       "       [-1.917e-07,  2.534e+02,  1.257e+00,  4.924e-01],\n",
       "       [-1.234e-07,  2.559e+02,  1.266e+00,  4.909e-01],\n",
       "       [-1.687e-08,  2.585e+02,  1.275e+00,  4.894e-01],\n",
       "       [ 1.349e-07,  2.611e+02,  1.284e+00,  4.879e-01],\n",
       "       [ 3.394e-07,  2.637e+02,  1.293e+00,  4.865e-01],\n",
       "       [ 6.044e-07,  2.664e+02,  1.303e+00,  4.850e-01],\n",
       "       [ 9.384e-07,  2.691e+02,  1.312e+00,  4.836e-01]])"
      ]
     },
     "execution_count": 36,
     "metadata": {},
     "output_type": "execute_result"
    }
   ],
   "source": [
    "yy1"
   ]
  },
  {
   "cell_type": "code",
   "execution_count": 37,
   "metadata": {
    "scrolled": true
   },
   "outputs": [
    {
     "data": {
      "image/png": "[encoded data removed]",
      "text/plain": [
       "<Figure size 432x288 with 1 Axes>"
      ]
     },
     "metadata": {
      "needs_background": "light"
     },
     "output_type": "display_data"
    }
   ],
   "source": [
    "xlabel = ['Cancer Cells', 'T cells', 'CAR', 'aCAR']\n",
    "\n",
    "for i in arange(2):\n",
    "    plt.plot(tt1, yy1[:,i], label = xlabel[i])\n",
    "    plt.legend()\n",
    "    plt.xlabel('Time')"
   ]
  },
  {
   "cell_type": "code",
   "execution_count": 38,
   "metadata": {},
   "outputs": [
    {
     "data": {
      "image/png": "[encoded data removed]",
      "text/plain": [
       "<Figure size 432x288 with 1 Axes>"
      ]
     },
     "metadata": {
      "needs_background": "light"
     },
     "output_type": "display_data"
    }
   ],
   "source": [
    "for i in arange(2):\n",
    "    plt.plot(tt1, yy1[:,i+2], label = xlabel[i+2])\n",
    "    plt.legend()\n",
    "    plt.xlabel('Time')"
   ]
  },
  {
   "cell_type": "code",
   "execution_count": null,
   "metadata": {},
   "outputs": [],
   "source": []
  }
 ],
 "metadata": {
  "kernelspec": {
   "display_name": "Python 3",
   "language": "python",
   "name": "python3"
  },
  "language_info": {
   "codemirror_mode": {
    "name": "ipython",
    "version": 3
   },
   "file_extension": ".py",
   "mimetype": "text/x-python",
   "name": "python",
   "nbconvert_exporter": "python",
   "pygments_lexer": "ipython3",
   "version": "3.7.1"
  }
 },
 "nbformat": 4,
 "nbformat_minor": 2
}
